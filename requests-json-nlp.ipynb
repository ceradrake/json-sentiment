{
 "cells": [
  {
   "cell_type": "markdown",
   "metadata": {},
   "source": [
    "# Web Mining and Applied NLP (44-620)\n",
    "\n",
    "## Requests, JSON, and NLP\n",
    "\n",
    "### Student Name: Cera Drake\n",
    "### GitHub Link: https://github.com/ceradrake\n",
    "Perform the tasks described in the Markdown cells below.  When you have completed the assignment make sure your code cells have all been run (and have output beneath them) and ensure you have committed and pushed ALL of your changes to your assignment repository.\n",
    "\n",
    "Make sure you have [installed spaCy and its pipeline](https://spacy.io/usage#quickstart) and [spaCyTextBlob](https://spacy.io/universe/project/spacy-textblob)\n",
    "\n",
    "Every question that requires you to write code will have a code cell underneath it; you may either write your entire solution in that cell or write it in a python file (`.py`), then import and run the appropriate code to answer the question.\n",
    "\n",
    "This assignment requires that you write additional files (either JSON or pickle files); make sure to submit those files in your repository as well."
   ]
  },
  {
   "cell_type": "code",
   "execution_count": 28,
   "metadata": {},
   "outputs": [
    {
     "name": "stdout",
     "output_type": "stream",
     "text": [
      "All prereqs installed.\n",
      "Package Version\n",
      "------- -------\n",
      "pip     24.3\n"
     ]
    }
   ],
   "source": [
    "import json\n",
    "import pickle\n",
    "\n",
    "import requests\n",
    "import spacy\n",
    "from spacytextblob.spacytextblob import SpacyTextBlob\n",
    "\n",
    "\n",
    "print('All prereqs installed.')\n",
    "!pip list"
   ]
  },
  {
   "cell_type": "markdown",
   "metadata": {},
   "source": [
    "1. The following code accesses the [lyrics.ovh](https://lyricsovh.docs.apiary.io/#reference/0/lyrics-of-a-song/search) public api, searches for the lyrics of a song, and stores it in a dictionary object.  Write the resulting json to a file (either a JSON file or a pickle file; you choose). You will read in the contents of this file for future questions so we do not need to frequently access the API."
   ]
  },
  {
   "cell_type": "markdown",
   "metadata": {},
   "source": [
    "# Question 1 Solution"
   ]
  },
  {
   "cell_type": "code",
   "execution_count": 36,
   "metadata": {},
   "outputs": [
    {
     "name": "stdout",
     "output_type": "stream",
     "text": [
      "{\"lyrics\": \"I'm your only friend \\nI'm not your only friend \\nBut I'm a little glowing friend \\nBut really I'm not actually your friend \\nBut I am \\n\\n\\nBlue canary in the outlet by the light switch \\n\\nWho watches over you \\n\\nMake a little birdhouse in your soul \\n\\nNot to put too fine a point on it \\n\\nSay I'm the only bee in your bonnet \\n\\nMake a little birdhouse in your soul \\n\\n\\n\\nI have a secret to tell \\n\\nFrom my electrical well \\n\\nIt's a simple message and I'm leaving out the whistles and bells \\n\\nSo the room must listen to me \\n\\nFilibuster vigilantly \\n\\nMy name is blue canary one note* spelled l-i-t-e \\n\\nMy story's infinite \\n\\nLike the Longines Symphonette it doesn't rest \\n\\n\\n\\nBlue canary in the outlet by the light switch \\n\\nWho watches over you \\n\\nMake a little birdhouse in your soul \\n\\nNot to put too fine a point on it \\n\\nSay I'm the only bee in your bonnet \\n\\nMake a little birdhouse in your soul \\n\\n\\n\\nI'm your only friend \\n\\nI'm not your only friend \\n\\nBut I'm a little glowing friend \\n\\nBut really I'm not actually your friend \\n\\nBut I am \\n\\n\\n\\nThere's a picture opposite me \\n\\nOf my primitive ancestry \\n\\nWhich stood on rocky shores and kept the beaches shipwreck free \\n\\nThough I respect that a lot \\n\\nI'd be fired if that were my job \\n\\nAfter killing Jason off and countless screaming Argonauts \\n\\nBluebird of friendliness \\n\\nLike guardian angels its always near \\n\\n\\n\\nBlue canary in the outlet by the light switch \\n\\nWho watches over you \\n\\nMake a little birdhouse in your soul \\n\\nNot to put too fine a point on it \\n\\nSay I'm the only bee in your bonnet \\n\\nMake a little birdhouse in your soul \\n\\n\\n\\n(and while you're at it \\n\\nKeep the nightlight on inside the \\n\\nBirdhouse in your soul) \\n\\n\\n\\nNot to put too fine a point on it \\n\\nSay I'm the only bee in your bonnet \\n\\nMake a little birdhouse in your soul \\n\\n\\n\\nBlue canary in the outlet by the light switch (and while you're at it) \\n\\nWho watches over you (keep the nightlight on inside the) \\n\\nMake a little birdhouse in your soul (birdhouse in your soul) \\n\\n\\n\\nNot to put too fine a point on it \\n\\nSay I'm the only bee in your bonnet \\n\\nMake a little birdhouse in your soul \\n\\n\\n\\nBlue canary in the outlet by the light switch (and while you're at it) \\n\\nWho watches over you (keep the nightlight on inside the) \\n\\nMake a little birdhouse in your soul (birdhouse in your soul) \\n\\n\\n\\nNot to put too fine a point on it \\n\\nSay I'm the only bee in your bonnet \\n\\nMake a little birdhouse in your soul\"}\n"
     ]
    }
   ],
   "source": [
    "import requests\n",
    "import json\n",
    "\n",
    "result = json.loads(requests.get('https://api.lyrics.ovh/v1/They Might Be Giants/Birdhouse in your soul').text)\n",
    "#Ask to find the lyrics to the song of choice\n",
    "url = 'https://api.lyrics.ovh/v1/They Might Be Giants/Birdhouse in your soul'\n",
    "response = requests.get(url)\n",
    "\n",
    "#Convert to JSON\n",
    "result = response.json()\n",
    "\n",
    "#Convert to JSON file\n",
    "with open('lyrics.json', 'w') as json_file:\n",
    "    json.dump(result, json_file)\n",
    "\n",
    "print(json.dumps(result))\n"
   ]
  },
  {
   "cell_type": "markdown",
   "metadata": {},
   "source": [
    "2. Read in the contents of your file.  Print the lyrics of the song (not the entire dictionary!) and use spaCyTextBlob to perform sentiment analysis on the lyrics.  Print the polarity score of the sentiment analysis.  Given that the range of the polarity score is `[-1.0,1.0]` which corresponds to how positive or negative the text in question is, do you think the lyrics have a more positive or negative connotaion?  Answer this question in a comment in your code cell."
   ]
  },
  {
   "cell_type": "markdown",
   "metadata": {},
   "source": [
    "# Question 2 Solution"
   ]
  },
  {
   "cell_type": "code",
   "execution_count": 38,
   "metadata": {},
   "outputs": [
    {
     "name": "stdout",
     "output_type": "stream",
     "text": [
      "Song Lyrics:\n",
      "\n",
      "I'm your only friend \n",
      "I'm not your only friend \n",
      "But I'm a little glowing friend \n",
      "But really I'm not actually your friend \n",
      "But I am \n",
      "\n",
      "\n",
      "Blue canary in the outlet by the light switch \n",
      "\n",
      "Who watches over you \n",
      "\n",
      "Make a little birdhouse in your soul \n",
      "\n",
      "Not to put too fine a point on it \n",
      "\n",
      "Say I'm the only bee in your bonnet \n",
      "\n",
      "Make a little birdhouse in your soul \n",
      "\n",
      "\n",
      "\n",
      "I have a secret to tell \n",
      "\n",
      "From my electrical well \n",
      "\n",
      "It's a simple message and I'm leaving out the whistles and bells \n",
      "\n",
      "So the room must listen to me \n",
      "\n",
      "Filibuster vigilantly \n",
      "\n",
      "My name is blue canary one note* spelled l-i-t-e \n",
      "\n",
      "My story's infinite \n",
      "\n",
      "Like the Longines Symphonette it doesn't rest \n",
      "\n",
      "\n",
      "\n",
      "Blue canary in the outlet by the light switch \n",
      "\n",
      "Who watches over you \n",
      "\n",
      "Make a little birdhouse in your soul \n",
      "\n",
      "Not to put too fine a point on it \n",
      "\n",
      "Say I'm the only bee in your bonnet \n",
      "\n",
      "Make a little birdhouse in your soul \n",
      "\n",
      "\n",
      "\n",
      "I'm your only friend \n",
      "\n",
      "I'm not your only friend \n",
      "\n",
      "But I'm a little glowing friend \n",
      "\n",
      "But really I'm not actually your friend \n",
      "\n",
      "But I am \n",
      "\n",
      "\n",
      "\n",
      "There's a picture opposite me \n",
      "\n",
      "Of my primitive ancestry \n",
      "\n",
      "Which stood on rocky shores and kept the beaches shipwreck free \n",
      "\n",
      "Though I respect that a lot \n",
      "\n",
      "I'd be fired if that were my job \n",
      "\n",
      "After killing Jason off and countless screaming Argonauts \n",
      "\n",
      "Bluebird of friendliness \n",
      "\n",
      "Like guardian angels its always near \n",
      "\n",
      "\n",
      "\n",
      "Blue canary in the outlet by the light switch \n",
      "\n",
      "Who watches over you \n",
      "\n",
      "Make a little birdhouse in your soul \n",
      "\n",
      "Not to put too fine a point on it \n",
      "\n",
      "Say I'm the only bee in your bonnet \n",
      "\n",
      "Make a little birdhouse in your soul \n",
      "\n",
      "\n",
      "\n",
      "(and while you're at it \n",
      "\n",
      "Keep the nightlight on inside the \n",
      "\n",
      "Birdhouse in your soul) \n",
      "\n",
      "\n",
      "\n",
      "Not to put too fine a point on it \n",
      "\n",
      "Say I'm the only bee in your bonnet \n",
      "\n",
      "Make a little birdhouse in your soul \n",
      "\n",
      "\n",
      "\n",
      "Blue canary in the outlet by the light switch (and while you're at it) \n",
      "\n",
      "Who watches over you (keep the nightlight on inside the) \n",
      "\n",
      "Make a little birdhouse in your soul (birdhouse in your soul) \n",
      "\n",
      "\n",
      "\n",
      "Not to put too fine a point on it \n",
      "\n",
      "Say I'm the only bee in your bonnet \n",
      "\n",
      "Make a little birdhouse in your soul \n",
      "\n",
      "\n",
      "\n",
      "Blue canary in the outlet by the light switch (and while you're at it) \n",
      "\n",
      "Who watches over you (keep the nightlight on inside the) \n",
      "\n",
      "Make a little birdhouse in your soul (birdhouse in your soul) \n",
      "\n",
      "\n",
      "\n",
      "Not to put too fine a point on it \n",
      "\n",
      "Say I'm the only bee in your bonnet \n",
      "\n",
      "Make a little birdhouse in your soul\n",
      "\n",
      "Polarity score of the lyrics: 0.04505208333333333\n"
     ]
    }
   ],
   "source": [
    "import json\n",
    "from textblob import TextBlob\n",
    "\n",
    "# Load your lyrics\n",
    "with open('lyrics.json', 'r') as json_file:\n",
    "    data = json.load(json_file)\n",
    "\n",
    "# Get the lyrics\n",
    "lyrics = data.get('lyrics', '')\n",
    "\n",
    "# Perform sentiment analysis with TextBlob\n",
    "if lyrics:\n",
    "    # Create a TextBlob object\n",
    "    blob = TextBlob(lyrics)\n",
    "\n",
    "    # Print the lyrics\n",
    "    print(\"Song Lyrics:\\n\")\n",
    "    print(lyrics)\n",
    "\n",
    "    # Get the polarity score (TextBlob-based)\n",
    "    polarity = blob.sentiment.polarity\n",
    "    print(\"\\nPolarity score of the lyrics:\", polarity)\n",
    "    \n",
    "    # The polarity score is .045, this score tells us that it's a mostly neutral sentiment. +1 would be a positive sentiment, and -1 would be a negative sentiment. \n"
   ]
  },
  {
   "cell_type": "markdown",
   "metadata": {},
   "source": [
    "3. Write a function that takes an artist, song, and filename, accesses the lyrics.ovh api to get the song lyrics, and writes the results to the specified filename.  Test this function by getting the lyrics to any four songs of your choice and storing them in different files."
   ]
  },
  {
   "cell_type": "markdown",
   "metadata": {},
   "source": [
    "# Question 3 Solution"
   ]
  },
  {
   "cell_type": "code",
   "execution_count": 50,
   "metadata": {},
   "outputs": [
    {
     "name": "stdout",
     "output_type": "stream",
     "text": [
      "Lyrics for 'Humble' have been saved to Songs.Kendrick\n",
      "Lyrics for 'At My Worst' have been saved to Songs.PinkSweat$\n",
      "Lyrics for 'Teenagers' have been saved to Songs.MyChemicalRomance\n"
     ]
    }
   ],
   "source": [
    "import requests\n",
    "import json\n",
    "def search_and_store_lyrics(artist, song, filename):\n",
    "    url = f'https://api.lyrics.ovh/v1/{artist}/{song}'\n",
    "    response = requests.get(url)\n",
    "    if response.status_code == 200:\n",
    "        result = response.json()\n",
    "        with open(filename, 'w') as json_file:\n",
    "            json.dump(result, json_file)\n",
    "            print(f\"Lyrics for '{song}' have been saved to {filename}\")\n",
    "\n",
    "search_and_store_lyrics('Kendrick Lamar', 'Humble', 'Songs.Kendrick')\n",
    "search_and_store_lyrics('Pink Sweat$', 'At My Worst', 'Songs.PinkSweat$')\n",
    "search_and_store_lyrics('My Chemical Romance', 'Teenagers', 'Songs.MyChemicalRomance')\n",
    "\n"
   ]
  },
  {
   "cell_type": "markdown",
   "metadata": {},
   "source": [
    "4. Write a function that takes the name of a file that contains song lyrics, loads the file, performs sentiment analysis, and returns the polarity score.  Use this function to print the polarity scores (with the name of the song) of the three files you created in question 3.  Does the reported polarity match your understanding of the song's lyrics? Why or why not do you think that might be?  Answer the questions in either a comment in the code cell or a markdown cell under the code cell."
   ]
  },
  {
   "cell_type": "markdown",
   "metadata": {},
   "source": [
    "# Question 4 Solution"
   ]
  },
  {
   "cell_type": "code",
   "execution_count": 54,
   "metadata": {},
   "outputs": [
    {
     "name": "stdout",
     "output_type": "stream",
     "text": [
      "Polarity score for 'Humble': -0.0956528417818741\n",
      "Polarity score for 'Teenagers': -0.2557692307692308\n",
      "Polarity score for 'At My Worst': -0.07604120017913121\n"
     ]
    }
   ],
   "source": [
    "import json\n",
    "from textblob import TextBlob\n",
    "\n",
    "def sentiment_value_of_song(filename): \n",
    "    with open(filename, 'r') as json_file:\n",
    "        data= json.load(json_file)\n",
    "        #Pull the lyrics\n",
    "        lyrics = data.get('lyrics', '')\n",
    "        if lyrics: \n",
    "            blob= TextBlob(lyrics)\n",
    "            return blob.sentiment.polarity\n",
    "files= [\n",
    "    ('Songs.Kendrick', 'Humble'),\n",
    "    ('Songs.MyChemicalRomance', 'Teenagers'),\n",
    "    ('Songs.PinkSweat$', 'At My Worst')\n",
    "]\n",
    "for filename, song in files:\n",
    "    polarity = sentiment_value_of_song(filename)\n",
    "    if polarity is not None:\n",
    "        print(f\"Polarity score for '{song}': {polarity}\")"
   ]
  },
  {
   "cell_type": "markdown",
   "metadata": {},
   "source": [
    "### I think the polarity scores for each song are accurate. I think the underlying meaning behind the lyrics could be taken differently. But, just based on the actual lyrics of each song, I think the scores are very accurate. "
   ]
  }
 ],
 "metadata": {
  "kernelspec": {
   "display_name": "Python 3",
   "language": "python",
   "name": "python3"
  },
  "language_info": {
   "codemirror_mode": {
    "name": "ipython",
    "version": 3
   },
   "file_extension": ".py",
   "mimetype": "text/x-python",
   "name": "python",
   "nbconvert_exporter": "python",
   "pygments_lexer": "ipython3",
   "version": "3.11.4"
  }
 },
 "nbformat": 4,
 "nbformat_minor": 4
}
